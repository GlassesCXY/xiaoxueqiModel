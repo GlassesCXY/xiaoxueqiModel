{
 "cells": [
  {
   "cell_type": "code",
   "execution_count": 1,
   "id": "8a67ce0f",
   "metadata": {},
   "source": [
    "import cv2\n",
    "from glob import glob\n",
    "from pathlib import Path\n",
    "\n",
    "from model import Model\n",
    "from utils import plot"
   ],
   "outputs": []
  },
  {
   "cell_type": "code",
   "execution_count": 2,
   "id": "ec0cf533",
   "metadata": {},
   "source": [
    "model = Model()"
   ],
   "outputs": []
  },
  {
   "cell_type": "code",
   "execution_count": 3,
   "id": "7b2105b7",
   "metadata": {},
   "source": [
    "image_pathes = glob('./data/*.jpg')\n",
    "image_pathes += glob('./data/*.png')\n",
    "image_pathes[:2]"
   ],
   "outputs": []
  },
  {
   "cell_type": "code",
   "execution_count": 4,
   "id": "d92ca6e9",
   "metadata": {},
   "source": [
    "save_folder_path = Path('results')"
   ],
   "outputs": []
  },
  {
   "cell_type": "code",
   "execution_count": 5,
   "id": "2f96299b",
   "metadata": {
    "scrolled": false
   },
   "source": [
    "for i, image_path in enumerate(image_pathes):\n",
    "    image = cv2.imread(image_path)\n",
    "    image = cv2.cvtColor(image, cv2.COLOR_BGR2RGB)\n",
    "    label = model.predict(image)['label']\n",
    "    plot(image=image, title=label, \n",
    "         save_path=save_folder_path / f'{i}.jpg')"
   ],
   "outputs": []
  },
  {
   "cell_type": "markdown",
   "id": "6fd10a07",
   "metadata": {},
   "source": [
    "# Read video \n",
    "### and save predictions for each frame as another video"
   ]
  },
  {
   "cell_type": "code",
   "execution_count": 6,
   "id": "3ced4a07",
   "metadata": {},
   "source": [
    "def process_video(input_video_path: str, output_path: str):\n",
    "    cap = cv2.VideoCapture(video_path)\n",
    "    width = int(cap.get(cv2.CAP_PROP_FRAME_WIDTH) + 0.5)\n",
    "    height = int(cap.get(cv2.CAP_PROP_FRAME_HEIGHT) + 0.5)\n",
    "    size = (width, height)\n",
    "    fourcc = cv2.VideoWriter_fourcc(*'XVID')\n",
    "    fps = int(cap.get(cv2.CAP_PROP_FPS) + 0.5)\n",
    "    print('FPS', fps)\n",
    "    success, frame = cap.read()\n",
    "    \n",
    "    out = cv2.VideoWriter(save_video_path, fourcc, fps, size)\n",
    "    success = True\n",
    "\n",
    "\n",
    "    while success and cap.isOpened():\n",
    "\n",
    "        frame = cv2.cvtColor(frame, cv2.COLOR_BGR2RGB)\n",
    "        prediction = model.predict(frame)\n",
    "        label = prediction['label']\n",
    "        conf = prediction['confidence']\n",
    "        frame = cv2.cvtColor(frame, cv2.COLOR_RGB2BGR)\n",
    "        frame = cv2.putText(frame, label.title(), \n",
    "                            (0, 100), \n",
    "                            cv2.FONT_HERSHEY_SIMPLEX, 1, \n",
    "                            (0, 0, 255), 2)\n",
    "\n",
    "        cv2.imshow('Recording...', frame)\n",
    "        if cv2.waitKey(1) & 0xFF == ord('q'):\n",
    "            break\n",
    "        out.write(frame)\n",
    "        success, frame = cap.read()\n",
    "\n",
    "    cap.release()\n",
    "    out.release()\n",
    "    cv2.destroyAllWindows()"
   ],
   "outputs": []
  },
  {
   "cell_type": "code",
   "execution_count": 7,
   "id": "c3dfbe55",
   "metadata": {},
   "source": [
    "video_path = './data/fire.mp4'\n",
    "save_video_path = str(save_folder_path / 'result_fire.avi')\n",
    "\n",
    "process_video(video_path, save_video_path)"
   ],
   "outputs": []
  },
  {
   "cell_type": "code",
   "execution_count": 8,
   "id": "53a2afdb",
   "metadata": {},
   "source": [
    "video_path = './data/office_fight.mp4'\n",
    "save_video_path = str(save_folder_path / 'result_fight.avi')\n",
    "\n",
    "process_video(video_path, save_video_path)"
   ],
   "outputs": []
  },
  {
   "cell_type": "code",
   "execution_count": null,
   "id": "cd533ee0",
   "metadata": {},
   "source": [],
   "outputs": []
  }
 ],
 "metadata": {
  "kernelspec": {
   "display_name": "Python 3 (ipykernel)",
   "language": "python",
   "name": "python3"
  },
  "language_info": {
   "codemirror_mode": {
    "name": "ipython",
    "version": 3
   },
   "file_extension": ".py",
   "mimetype": "text/x-python",
   "name": "python",
   "nbconvert_exporter": "python",
   "pygments_lexer": "ipython3",
   "version": "3.8.11"
  }
 },
 "nbformat": 4,
 "nbformat_minor": 5
}
